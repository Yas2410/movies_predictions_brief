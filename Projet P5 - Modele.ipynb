{
 "cells": [
  {
   "cell_type": "markdown",
   "metadata": {},
   "source": [
    "## __PROJET 5 - IMDB Movie Prediction__ - _*Ludovic & Yasemin*_"
   ]
  },
  {
   "cell_type": "markdown",
   "metadata": {},
   "source": [
    "####  __SECONDE PARTIE__ : MACHINE LEARNING"
   ]
  },
  {
   "cell_type": "code",
   "execution_count": 2,
   "metadata": {},
   "outputs": [],
   "source": [
    "import warnings\n",
    "warnings.filterwarnings(\"ignore\")\n",
    "%matplotlib inline\n",
    "import pandas as pd\n",
    "from ydata_profiling import ProfileReport\n",
    "import numpy as np\n",
    "import matplotlib.pyplot as plt\n",
    "import seaborn as sns"
   ]
  },
  {
   "cell_type": "code",
   "execution_count": 3,
   "metadata": {},
   "outputs": [
    {
     "data": {
      "text/html": [
       "<div>\n",
       "<style scoped>\n",
       "    .dataframe tbody tr th:only-of-type {\n",
       "        vertical-align: middle;\n",
       "    }\n",
       "\n",
       "    .dataframe tbody tr th {\n",
       "        vertical-align: top;\n",
       "    }\n",
       "\n",
       "    .dataframe thead th {\n",
       "        text-align: right;\n",
       "    }\n",
       "</style>\n",
       "<table border=\"1\" class=\"dataframe\">\n",
       "  <thead>\n",
       "    <tr style=\"text-align: right;\">\n",
       "      <th></th>\n",
       "      <th>Unnamed: 0</th>\n",
       "      <th>duration</th>\n",
       "      <th>director_fb_likes</th>\n",
       "      <th>actor_1_fb_likes</th>\n",
       "      <th>gross</th>\n",
       "      <th>num_voted_users</th>\n",
       "      <th>facenumber_in_poster</th>\n",
       "      <th>budget</th>\n",
       "      <th>title_year</th>\n",
       "      <th>aspect_ratio</th>\n",
       "      <th>movie_fb_likes</th>\n",
       "      <th>country_UK</th>\n",
       "      <th>country_USA</th>\n",
       "      <th>other_actors_fb_likes</th>\n",
       "      <th>critic_reviews_ratio</th>\n",
       "      <th>imdb_classification</th>\n",
       "    </tr>\n",
       "  </thead>\n",
       "  <tbody>\n",
       "    <tr>\n",
       "      <th>0</th>\n",
       "      <td>0</td>\n",
       "      <td>178.0</td>\n",
       "      <td>0.0</td>\n",
       "      <td>1000.0</td>\n",
       "      <td>760505847.0</td>\n",
       "      <td>886204</td>\n",
       "      <td>0.0</td>\n",
       "      <td>237000000.0</td>\n",
       "      <td>2009.0</td>\n",
       "      <td>1.78</td>\n",
       "      <td>33000</td>\n",
       "      <td>False</td>\n",
       "      <td>True</td>\n",
       "      <td>1791.0</td>\n",
       "      <td>0.236739</td>\n",
       "      <td>2</td>\n",
       "    </tr>\n",
       "    <tr>\n",
       "      <th>1</th>\n",
       "      <td>1</td>\n",
       "      <td>169.0</td>\n",
       "      <td>563.0</td>\n",
       "      <td>40000.0</td>\n",
       "      <td>309404152.0</td>\n",
       "      <td>471220</td>\n",
       "      <td>0.0</td>\n",
       "      <td>300000000.0</td>\n",
       "      <td>2007.0</td>\n",
       "      <td>2.35</td>\n",
       "      <td>0</td>\n",
       "      <td>False</td>\n",
       "      <td>True</td>\n",
       "      <td>6000.0</td>\n",
       "      <td>0.243942</td>\n",
       "      <td>2</td>\n",
       "    </tr>\n",
       "    <tr>\n",
       "      <th>2</th>\n",
       "      <td>2</td>\n",
       "      <td>148.0</td>\n",
       "      <td>0.0</td>\n",
       "      <td>11000.0</td>\n",
       "      <td>200074175.0</td>\n",
       "      <td>275868</td>\n",
       "      <td>1.0</td>\n",
       "      <td>245000000.0</td>\n",
       "      <td>2015.0</td>\n",
       "      <td>2.35</td>\n",
       "      <td>85000</td>\n",
       "      <td>True</td>\n",
       "      <td>False</td>\n",
       "      <td>554.0</td>\n",
       "      <td>0.605634</td>\n",
       "      <td>2</td>\n",
       "    </tr>\n",
       "  </tbody>\n",
       "</table>\n",
       "</div>"
      ],
      "text/plain": [
       "   Unnamed: 0  duration  director_fb_likes  actor_1_fb_likes        gross  \\\n",
       "0           0     178.0                0.0            1000.0  760505847.0   \n",
       "1           1     169.0              563.0           40000.0  309404152.0   \n",
       "2           2     148.0                0.0           11000.0  200074175.0   \n",
       "\n",
       "   num_voted_users  facenumber_in_poster       budget  title_year  \\\n",
       "0           886204                   0.0  237000000.0      2009.0   \n",
       "1           471220                   0.0  300000000.0      2007.0   \n",
       "2           275868                   1.0  245000000.0      2015.0   \n",
       "\n",
       "   aspect_ratio  movie_fb_likes  country_UK  country_USA  \\\n",
       "0          1.78           33000       False         True   \n",
       "1          2.35               0       False         True   \n",
       "2          2.35           85000        True        False   \n",
       "\n",
       "   other_actors_fb_likes  critic_reviews_ratio  imdb_classification  \n",
       "0                 1791.0              0.236739                    2  \n",
       "1                 6000.0              0.243942                    2  \n",
       "2                  554.0              0.605634                    2  "
      ]
     },
     "execution_count": 3,
     "metadata": {},
     "output_type": "execute_result"
    }
   ],
   "source": [
    "pd.set_option(\"display.max_columns\", None)\n",
    "\n",
    "df = pd.read_csv(\"./Datas/5000_movies_bis_clean.csv\")\n",
    "df.head(3)"
   ]
  },
  {
   "cell_type": "code",
   "execution_count": 4,
   "metadata": {},
   "outputs": [
    {
     "name": "stdout",
     "output_type": "stream",
     "text": [
      "<class 'pandas.core.frame.DataFrame'>\n",
      "RangeIndex: 4703 entries, 0 to 4702\n",
      "Data columns (total 16 columns):\n",
      " #   Column                 Non-Null Count  Dtype  \n",
      "---  ------                 --------------  -----  \n",
      " 0   Unnamed: 0             4703 non-null   int64  \n",
      " 1   duration               4703 non-null   float64\n",
      " 2   director_fb_likes      4703 non-null   float64\n",
      " 3   actor_1_fb_likes       4703 non-null   float64\n",
      " 4   gross                  4703 non-null   float64\n",
      " 5   num_voted_users        4703 non-null   int64  \n",
      " 6   facenumber_in_poster   4703 non-null   float64\n",
      " 7   budget                 4703 non-null   float64\n",
      " 8   title_year             4703 non-null   float64\n",
      " 9   aspect_ratio           4703 non-null   float64\n",
      " 10  movie_fb_likes         4703 non-null   int64  \n",
      " 11  country_UK             4703 non-null   bool   \n",
      " 12  country_USA            4703 non-null   bool   \n",
      " 13  other_actors_fb_likes  4703 non-null   float64\n",
      " 14  critic_reviews_ratio   4703 non-null   float64\n",
      " 15  imdb_classification    4703 non-null   int64  \n",
      "dtypes: bool(2), float64(10), int64(4)\n",
      "memory usage: 523.7 KB\n"
     ]
    }
   ],
   "source": [
    "df.info()"
   ]
  }
 ],
 "metadata": {
  "kernelspec": {
   "display_name": "prediction_env",
   "language": "python",
   "name": "python3"
  },
  "language_info": {
   "codemirror_mode": {
    "name": "ipython",
    "version": 3
   },
   "file_extension": ".py",
   "mimetype": "text/x-python",
   "name": "python",
   "nbconvert_exporter": "python",
   "pygments_lexer": "ipython3",
   "version": "3.12.3"
  }
 },
 "nbformat": 4,
 "nbformat_minor": 2
}
