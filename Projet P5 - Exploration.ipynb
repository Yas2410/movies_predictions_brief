{
 "cells": [
  {
   "cell_type": "markdown",
   "id": "68e4777b-8dde-4532-85ea-47c71899faf6",
   "metadata": {},
   "source": [
    "# Projet P5 - IMDB\n",
    "## Exploration des données"
   ]
  },
  {
   "cell_type": "code",
   "execution_count": 2,
   "id": "17d65058",
   "metadata": {},
   "outputs": [],
   "source": [
    "import warnings\n",
    "warnings.filterwarnings(\"ignore\")"
   ]
  },
  {
   "cell_type": "code",
   "execution_count": 3,
   "id": "d4250bb7-872d-4683-a92e-7f9f71b3f9e8",
   "metadata": {},
   "outputs": [],
   "source": [
    "# Import des modules et librairies\n",
    "import pandas as pd\n",
    "import matplotlib.pyplot as plt\n",
    "import seaborn as sns"
   ]
  },
  {
   "cell_type": "code",
   "execution_count": 4,
   "id": "e59db9d3-2725-448a-9637-55cb5c2a6ce5",
   "metadata": {},
   "outputs": [
    {
     "data": {
      "text/html": [
       "<div>\n",
       "<style scoped>\n",
       "    .dataframe tbody tr th:only-of-type {\n",
       "        vertical-align: middle;\n",
       "    }\n",
       "\n",
       "    .dataframe tbody tr th {\n",
       "        vertical-align: top;\n",
       "    }\n",
       "\n",
       "    .dataframe thead th {\n",
       "        text-align: right;\n",
       "    }\n",
       "</style>\n",
       "<table border=\"1\" class=\"dataframe\">\n",
       "  <thead>\n",
       "    <tr style=\"text-align: right;\">\n",
       "      <th></th>\n",
       "      <th>color</th>\n",
       "      <th>director_name</th>\n",
       "      <th>num_critic_for_reviews</th>\n",
       "      <th>duration</th>\n",
       "      <th>director_fb_likes</th>\n",
       "      <th>actor_3_fb_likes</th>\n",
       "      <th>actor_2_name</th>\n",
       "      <th>actor_1_fb_likes</th>\n",
       "      <th>gross</th>\n",
       "      <th>genres</th>\n",
       "      <th>actor_1_name</th>\n",
       "      <th>movie_title</th>\n",
       "      <th>num_voted_users</th>\n",
       "      <th>cast_total_fb_likes</th>\n",
       "      <th>actor_3_name</th>\n",
       "      <th>facenumber_in_poster</th>\n",
       "      <th>plot_keywords</th>\n",
       "      <th>movie_imdb_link</th>\n",
       "      <th>num_user_for_reviews</th>\n",
       "      <th>language</th>\n",
       "      <th>country</th>\n",
       "      <th>content_rating</th>\n",
       "      <th>budget</th>\n",
       "      <th>title_year</th>\n",
       "      <th>actor_2_fb_likes</th>\n",
       "      <th>imdb_score</th>\n",
       "      <th>aspect_ratio</th>\n",
       "      <th>movie_fb_likes</th>\n",
       "    </tr>\n",
       "  </thead>\n",
       "  <tbody>\n",
       "    <tr>\n",
       "      <th>0</th>\n",
       "      <td>Color</td>\n",
       "      <td>James Cameron</td>\n",
       "      <td>723.0</td>\n",
       "      <td>178.0</td>\n",
       "      <td>0.0</td>\n",
       "      <td>855.0</td>\n",
       "      <td>Joel David Moore</td>\n",
       "      <td>1000.0</td>\n",
       "      <td>760505847.0</td>\n",
       "      <td>Action|Adventure|Fantasy|Sci-Fi</td>\n",
       "      <td>CCH Pounder</td>\n",
       "      <td>Avatar</td>\n",
       "      <td>886204</td>\n",
       "      <td>4834</td>\n",
       "      <td>Wes Studi</td>\n",
       "      <td>0.0</td>\n",
       "      <td>avatar|future|marine|native|paraplegic</td>\n",
       "      <td>http://www.imdb.com/title/tt0499549/?ref_=fn_t...</td>\n",
       "      <td>3054.0</td>\n",
       "      <td>English</td>\n",
       "      <td>USA</td>\n",
       "      <td>PG-13</td>\n",
       "      <td>237000000.0</td>\n",
       "      <td>2009.0</td>\n",
       "      <td>936.0</td>\n",
       "      <td>7.9</td>\n",
       "      <td>1.78</td>\n",
       "      <td>33000</td>\n",
       "    </tr>\n",
       "    <tr>\n",
       "      <th>1</th>\n",
       "      <td>Color</td>\n",
       "      <td>Gore Verbinski</td>\n",
       "      <td>302.0</td>\n",
       "      <td>169.0</td>\n",
       "      <td>563.0</td>\n",
       "      <td>1000.0</td>\n",
       "      <td>Orlando Bloom</td>\n",
       "      <td>40000.0</td>\n",
       "      <td>309404152.0</td>\n",
       "      <td>Action|Adventure|Fantasy</td>\n",
       "      <td>Johnny Depp</td>\n",
       "      <td>Pirates of the Caribbean: At World's End</td>\n",
       "      <td>471220</td>\n",
       "      <td>48350</td>\n",
       "      <td>Jack Davenport</td>\n",
       "      <td>0.0</td>\n",
       "      <td>goddess|marriage ceremony|marriage proposal|pi...</td>\n",
       "      <td>http://www.imdb.com/title/tt0449088/?ref_=fn_t...</td>\n",
       "      <td>1238.0</td>\n",
       "      <td>English</td>\n",
       "      <td>USA</td>\n",
       "      <td>PG-13</td>\n",
       "      <td>300000000.0</td>\n",
       "      <td>2007.0</td>\n",
       "      <td>5000.0</td>\n",
       "      <td>7.1</td>\n",
       "      <td>2.35</td>\n",
       "      <td>0</td>\n",
       "    </tr>\n",
       "    <tr>\n",
       "      <th>2</th>\n",
       "      <td>Color</td>\n",
       "      <td>Sam Mendes</td>\n",
       "      <td>602.0</td>\n",
       "      <td>148.0</td>\n",
       "      <td>0.0</td>\n",
       "      <td>161.0</td>\n",
       "      <td>Rory Kinnear</td>\n",
       "      <td>11000.0</td>\n",
       "      <td>200074175.0</td>\n",
       "      <td>Action|Adventure|Thriller</td>\n",
       "      <td>Christoph Waltz</td>\n",
       "      <td>Spectre</td>\n",
       "      <td>275868</td>\n",
       "      <td>11700</td>\n",
       "      <td>Stephanie Sigman</td>\n",
       "      <td>1.0</td>\n",
       "      <td>bomb|espionage|sequel|spy|terrorist</td>\n",
       "      <td>http://www.imdb.com/title/tt2379713/?ref_=fn_t...</td>\n",
       "      <td>994.0</td>\n",
       "      <td>English</td>\n",
       "      <td>UK</td>\n",
       "      <td>PG-13</td>\n",
       "      <td>245000000.0</td>\n",
       "      <td>2015.0</td>\n",
       "      <td>393.0</td>\n",
       "      <td>6.8</td>\n",
       "      <td>2.35</td>\n",
       "      <td>85000</td>\n",
       "    </tr>\n",
       "    <tr>\n",
       "      <th>3</th>\n",
       "      <td>Color</td>\n",
       "      <td>Christopher Nolan</td>\n",
       "      <td>813.0</td>\n",
       "      <td>164.0</td>\n",
       "      <td>22000.0</td>\n",
       "      <td>23000.0</td>\n",
       "      <td>Christian Bale</td>\n",
       "      <td>27000.0</td>\n",
       "      <td>448130642.0</td>\n",
       "      <td>Action|Thriller</td>\n",
       "      <td>Tom Hardy</td>\n",
       "      <td>The Dark Knight Rises</td>\n",
       "      <td>1144337</td>\n",
       "      <td>106759</td>\n",
       "      <td>Joseph Gordon-Levitt</td>\n",
       "      <td>0.0</td>\n",
       "      <td>deception|imprisonment|lawlessness|police offi...</td>\n",
       "      <td>http://www.imdb.com/title/tt1345836/?ref_=fn_t...</td>\n",
       "      <td>2701.0</td>\n",
       "      <td>English</td>\n",
       "      <td>USA</td>\n",
       "      <td>PG-13</td>\n",
       "      <td>250000000.0</td>\n",
       "      <td>2012.0</td>\n",
       "      <td>23000.0</td>\n",
       "      <td>8.5</td>\n",
       "      <td>2.35</td>\n",
       "      <td>164000</td>\n",
       "    </tr>\n",
       "    <tr>\n",
       "      <th>4</th>\n",
       "      <td>NaN</td>\n",
       "      <td>Doug Walker</td>\n",
       "      <td>NaN</td>\n",
       "      <td>NaN</td>\n",
       "      <td>131.0</td>\n",
       "      <td>NaN</td>\n",
       "      <td>Rob Walker</td>\n",
       "      <td>131.0</td>\n",
       "      <td>NaN</td>\n",
       "      <td>Documentary</td>\n",
       "      <td>Doug Walker</td>\n",
       "      <td>Star Wars: Episode VII - The Force Awakens    ...</td>\n",
       "      <td>8</td>\n",
       "      <td>143</td>\n",
       "      <td>NaN</td>\n",
       "      <td>0.0</td>\n",
       "      <td>NaN</td>\n",
       "      <td>http://www.imdb.com/title/tt5289954/?ref_=fn_t...</td>\n",
       "      <td>NaN</td>\n",
       "      <td>NaN</td>\n",
       "      <td>NaN</td>\n",
       "      <td>NaN</td>\n",
       "      <td>NaN</td>\n",
       "      <td>NaN</td>\n",
       "      <td>12.0</td>\n",
       "      <td>7.1</td>\n",
       "      <td>NaN</td>\n",
       "      <td>0</td>\n",
       "    </tr>\n",
       "  </tbody>\n",
       "</table>\n",
       "</div>"
      ],
      "text/plain": [
       "   color      director_name  num_critic_for_reviews  duration  \\\n",
       "0  Color      James Cameron                   723.0     178.0   \n",
       "1  Color     Gore Verbinski                   302.0     169.0   \n",
       "2  Color         Sam Mendes                   602.0     148.0   \n",
       "3  Color  Christopher Nolan                   813.0     164.0   \n",
       "4    NaN        Doug Walker                     NaN       NaN   \n",
       "\n",
       "   director_fb_likes  actor_3_fb_likes      actor_2_name  actor_1_fb_likes  \\\n",
       "0                0.0             855.0  Joel David Moore            1000.0   \n",
       "1              563.0            1000.0     Orlando Bloom           40000.0   \n",
       "2                0.0             161.0      Rory Kinnear           11000.0   \n",
       "3            22000.0           23000.0    Christian Bale           27000.0   \n",
       "4              131.0               NaN        Rob Walker             131.0   \n",
       "\n",
       "         gross                           genres     actor_1_name  \\\n",
       "0  760505847.0  Action|Adventure|Fantasy|Sci-Fi      CCH Pounder   \n",
       "1  309404152.0         Action|Adventure|Fantasy      Johnny Depp   \n",
       "2  200074175.0        Action|Adventure|Thriller  Christoph Waltz   \n",
       "3  448130642.0                  Action|Thriller        Tom Hardy   \n",
       "4          NaN                      Documentary      Doug Walker   \n",
       "\n",
       "                                         movie_title  num_voted_users  \\\n",
       "0                                            Avatar            886204   \n",
       "1          Pirates of the Caribbean: At World's End            471220   \n",
       "2                                           Spectre            275868   \n",
       "3                             The Dark Knight Rises           1144337   \n",
       "4  Star Wars: Episode VII - The Force Awakens    ...                8   \n",
       "\n",
       "   cast_total_fb_likes          actor_3_name  facenumber_in_poster  \\\n",
       "0                 4834             Wes Studi                   0.0   \n",
       "1                48350        Jack Davenport                   0.0   \n",
       "2                11700      Stephanie Sigman                   1.0   \n",
       "3               106759  Joseph Gordon-Levitt                   0.0   \n",
       "4                  143                   NaN                   0.0   \n",
       "\n",
       "                                       plot_keywords  \\\n",
       "0             avatar|future|marine|native|paraplegic   \n",
       "1  goddess|marriage ceremony|marriage proposal|pi...   \n",
       "2                bomb|espionage|sequel|spy|terrorist   \n",
       "3  deception|imprisonment|lawlessness|police offi...   \n",
       "4                                                NaN   \n",
       "\n",
       "                                     movie_imdb_link  num_user_for_reviews  \\\n",
       "0  http://www.imdb.com/title/tt0499549/?ref_=fn_t...                3054.0   \n",
       "1  http://www.imdb.com/title/tt0449088/?ref_=fn_t...                1238.0   \n",
       "2  http://www.imdb.com/title/tt2379713/?ref_=fn_t...                 994.0   \n",
       "3  http://www.imdb.com/title/tt1345836/?ref_=fn_t...                2701.0   \n",
       "4  http://www.imdb.com/title/tt5289954/?ref_=fn_t...                   NaN   \n",
       "\n",
       "  language country content_rating       budget  title_year  actor_2_fb_likes  \\\n",
       "0  English     USA          PG-13  237000000.0      2009.0             936.0   \n",
       "1  English     USA          PG-13  300000000.0      2007.0            5000.0   \n",
       "2  English      UK          PG-13  245000000.0      2015.0             393.0   \n",
       "3  English     USA          PG-13  250000000.0      2012.0           23000.0   \n",
       "4      NaN     NaN            NaN          NaN         NaN              12.0   \n",
       "\n",
       "   imdb_score  aspect_ratio  movie_fb_likes  \n",
       "0         7.9          1.78           33000  \n",
       "1         7.1          2.35               0  \n",
       "2         6.8          2.35           85000  \n",
       "3         8.5          2.35          164000  \n",
       "4         7.1           NaN               0  "
      ]
     },
     "execution_count": 4,
     "metadata": {},
     "output_type": "execute_result"
    }
   ],
   "source": [
    "#Affichages de toutes les colonnes\n",
    "pd.set_option(\"display.max_columns\", None)\n",
    "# Chargement des données\n",
    "df = pd.read_csv(\"./Datas/5000_movies_bis.csv\")\n",
    "df.head(5)"
   ]
  },
  {
   "cell_type": "markdown",
   "id": "429eb5cd",
   "metadata": {},
   "source": [
    "#### *Composition détaillée du Dataset* : \n",
    "##### *IMDB : Internet Movie Database*\n",
    "- __color__ : Si le film est en N&B / Couleur\n",
    "- __director_name__ : Nom du réalisateur du film\n",
    "- __num_critic_for_reviews__ : Nbr de critiques\n",
    "- __duration__ : Durée du film (min)\n",
    "- __director_fb_likes__ : Nbr de \"likes\" sur la page FB du réalisateur\n",
    "- __actor_3_fb_likes__ : Nbr de \"likes\" de l'acteur sur sa page FB\n",
    "- __actor_2_name__ : Nom de l'acteur secondaire\n",
    "- __actor_1_fb_likes__ : Nbr de \"likes\" de l'acteur principal sur sa page FB\n",
    "- __gross__ : Recettes brutes du film ($)\n",
    "- __genres__ :Catégorie du film (Comédie, Romance, Horreur, Science-Fiction, etc.)\n",
    "- __actor_1_name__ : Nom de l'acteur principal\n",
    "- __movie_title__ : Titre du film\n",
    "- __num_voted_users__ : Nbr de personnes ayant voté\n",
    "- __cast_total_fb_likes__ : Nbr total de likes FB (Casting complet)\n",
    "- __actor_3_name__ : Nom de l'acteur (3)\n",
    "- __facenumber_in_poster__ : Nbr de figurants sur l'affiche du film\n",
    "- __plot_keywords__ : Mots clés décrivant l'intrigue du film\n",
    "- __movie_imdb_link__ : Lien IMDB du film\n",
    "- __num_user_for_reviews__ : Nbr d'utilisateurs ayant donné une note\n",
    "- __language__ : Langue\n",
    "- __country__ : Pays où le film est produit\n",
    "- __content_rating__ : Evaluation du contenu du film\n",
    "- __budget__ : Budget du film ($)\n",
    "- __title_year__ : Année de sortie du film\n",
    "- __actor_2_fb_likes__ : Nbr de \"likes\" de l'acteur secondaire sur sa page FB\n",
    "- __imbd_score__ : Score IMBD du film \n",
    "- __aspect_ratio__ : Ratio (format image)\n",
    "- __movie_fb_likes__ : Nbr de \"likes\" sur la page FB du film"
   ]
  },
  {
   "cell_type": "code",
   "execution_count": 5,
   "id": "4205111f",
   "metadata": {},
   "outputs": [
    {
     "name": "stderr",
     "output_type": "stream",
     "text": [
      "Summarize dataset: 100%|██████████| 294/294 [00:46<00:00,  6.37it/s, Completed]                                            \n",
      "Generate report structure: 100%|██████████| 1/1 [00:23<00:00, 23.18s/it]\n",
      "Render HTML: 100%|██████████| 1/1 [00:11<00:00, 11.64s/it]\n",
      "Export report to file: 100%|██████████| 1/1 [00:00<00:00,  9.39it/s]\n"
     ]
    }
   ],
   "source": [
    "#Possibilité de générer un rapport détaillé du dataset au format html\n",
    "#Généré avant le nettoyage des données . Peut-être réitérer l'étape après nettoyage des données également?\n",
    "from ydata_profiling import ProfileReport\n",
    "profile = ProfileReport(df, title=\"Profiling Report - IMBD Dataset\")\n",
    "profile.to_file(\"IMDB_dataset_report.html\")"
   ]
  },
  {
   "cell_type": "code",
   "execution_count": 6,
   "id": "0b548221-43fa-4367-85ea-d0ffcdc92464",
   "metadata": {},
   "outputs": [
    {
     "data": {
      "text/plain": [
       "(5043, 28)"
      ]
     },
     "execution_count": 6,
     "metadata": {},
     "output_type": "execute_result"
    }
   ],
   "source": [
    "# Dimensions du dataset\n",
    "df.shape"
   ]
  },
  {
   "cell_type": "code",
   "execution_count": 7,
   "id": "8465a74a-4f58-42d7-9844-e60420ce357e",
   "metadata": {},
   "outputs": [
    {
     "name": "stdout",
     "output_type": "stream",
     "text": [
      "<class 'pandas.core.frame.DataFrame'>\n",
      "RangeIndex: 5043 entries, 0 to 5042\n",
      "Data columns (total 28 columns):\n",
      " #   Column                  Non-Null Count  Dtype  \n",
      "---  ------                  --------------  -----  \n",
      " 0   color                   5024 non-null   object \n",
      " 1   director_name           4939 non-null   object \n",
      " 2   num_critic_for_reviews  4993 non-null   float64\n",
      " 3   duration                5028 non-null   float64\n",
      " 4   director_fb_likes       4939 non-null   float64\n",
      " 5   actor_3_fb_likes        5020 non-null   float64\n",
      " 6   actor_2_name            5030 non-null   object \n",
      " 7   actor_1_fb_likes        5036 non-null   float64\n",
      " 8   gross                   4366 non-null   float64\n",
      " 9   genres                  5043 non-null   object \n",
      " 10  actor_1_name            5036 non-null   object \n",
      " 11  movie_title             5043 non-null   object \n",
      " 12  num_voted_users         5043 non-null   int64  \n",
      " 13  cast_total_fb_likes     5043 non-null   int64  \n",
      " 14  actor_3_name            5020 non-null   object \n",
      " 15  facenumber_in_poster    5030 non-null   float64\n",
      " 16  plot_keywords           4890 non-null   object \n",
      " 17  movie_imdb_link         5043 non-null   object \n",
      " 18  num_user_for_reviews    5022 non-null   float64\n",
      " 19  language                5029 non-null   object \n",
      " 20  country                 5038 non-null   object \n",
      " 21  content_rating          4740 non-null   object \n",
      " 22  budget                  4637 non-null   float64\n",
      " 23  title_year              4935 non-null   float64\n",
      " 24  actor_2_fb_likes        5030 non-null   float64\n",
      " 25  imdb_score              5043 non-null   float64\n",
      " 26  aspect_ratio            4714 non-null   float64\n",
      " 27  movie_fb_likes          5043 non-null   int64  \n",
      "dtypes: float64(13), int64(3), object(12)\n",
      "memory usage: 1.1+ MB\n"
     ]
    }
   ],
   "source": [
    "# Première analyse avec info()\n",
    "df.info()"
   ]
  },
  {
   "cell_type": "code",
   "execution_count": null,
   "id": "f7b3a628",
   "metadata": {},
   "outputs": [],
   "source": [
    "df.describe()"
   ]
  },
  {
   "cell_type": "markdown",
   "id": "63025faf-4151-46a9-96e3-b2a53eb489d0",
   "metadata": {},
   "source": [
    "Nous voyons que le dataset contient 2 grands types de données :\n",
    "- des données numériques : num_critic_for_reviews, duration, director_facebook_likes, actors facebook likes, gross, num_voted_users, cast_total_facebook_likes, facenumber_in_poster, num_user_for_reviews, budget, title_year, imdb_score, etc...\n",
    "- des données catégorielles : color, director name, actors name, genres, titre, langue, pays...\n",
    "\n",
    "Notre variable à expliquer (prédire) est : **imdb_score**"
   ]
  },
  {
   "cell_type": "markdown",
   "id": "34e4eb85-e081-4eb1-b9bd-6ef3db09ca2e",
   "metadata": {},
   "source": [
    "### Analyse de la colonne movie_imdb_link"
   ]
  },
  {
   "cell_type": "code",
   "execution_count": 18,
   "id": "223b3576-f6cd-416b-9deb-2f3ada7938c5",
   "metadata": {},
   "outputs": [
    {
     "data": {
      "text/plain": [
       "0       http://www.imdb.com/title/tt0499549/?ref_=fn_t...\n",
       "1       http://www.imdb.com/title/tt0449088/?ref_=fn_t...\n",
       "2       http://www.imdb.com/title/tt2379713/?ref_=fn_t...\n",
       "3       http://www.imdb.com/title/tt1345836/?ref_=fn_t...\n",
       "4       http://www.imdb.com/title/tt5289954/?ref_=fn_t...\n",
       "                              ...                        \n",
       "5038    http://www.imdb.com/title/tt3000844/?ref_=fn_t...\n",
       "5039    http://www.imdb.com/title/tt2071645/?ref_=fn_t...\n",
       "5040    http://www.imdb.com/title/tt2107644/?ref_=fn_t...\n",
       "5041    http://www.imdb.com/title/tt2070597/?ref_=fn_t...\n",
       "5042    http://www.imdb.com/title/tt0378407/?ref_=fn_t...\n",
       "Name: movie_imdb_link, Length: 5043, dtype: object"
      ]
     },
     "execution_count": 18,
     "metadata": {},
     "output_type": "execute_result"
    }
   ],
   "source": [
    "# Que contient-elle ?\n",
    "df[\"movie_imdb_link\"]"
   ]
  },
  {
   "cell_type": "code",
   "execution_count": 19,
   "id": "bcad8c8f-34ec-4a51-b717-4e35dc5c6c6d",
   "metadata": {},
   "outputs": [
    {
     "data": {
      "text/plain": [
       "(5043, 27)"
      ]
     },
     "execution_count": 19,
     "metadata": {},
     "output_type": "execute_result"
    }
   ],
   "source": [
    "# Cette variable n'est pas explicative, on la supprime\n",
    "df.drop('movie_imdb_link', axis=1, inplace=True)\n",
    "df.shape"
   ]
  },
  {
   "cell_type": "markdown",
   "id": "4f6cc034-519a-474b-ad38-81d431a2de37",
   "metadata": {},
   "source": [
    "### Analyse de la colonne color"
   ]
  },
  {
   "cell_type": "code",
   "execution_count": 20,
   "id": "e280c13e-8b7f-4dd7-906d-4cb17f4bf072",
   "metadata": {},
   "outputs": [
    {
     "data": {
      "text/plain": [
       "color\n",
       "Color               4815\n",
       " Black and White     209\n",
       "Name: count, dtype: int64"
      ]
     },
     "execution_count": 20,
     "metadata": {},
     "output_type": "execute_result"
    }
   ],
   "source": [
    "# Répartition des valeurs\n",
    "df[\"color\"].value_counts()"
   ]
  },
  {
   "cell_type": "code",
   "execution_count": 21,
   "id": "5d038be1-eb34-472a-b386-2602cb8f9e29",
   "metadata": {},
   "outputs": [
    {
     "data": {
      "text/plain": [
       "(5043, 26)"
      ]
     },
     "execution_count": 21,
     "metadata": {},
     "output_type": "execute_result"
    }
   ],
   "source": [
    "# La très grande majorité des films sont en couleur, cette variable ne sera pas explicative, on la supprime\n",
    "df.drop('color', axis=1, inplace=True)\n",
    "df.shape"
   ]
  },
  {
   "cell_type": "markdown",
   "id": "499b26e5-61ab-4c85-80b9-efc52f51f49e",
   "metadata": {},
   "source": [
    "### Analyse de la colonne language"
   ]
  },
  {
   "cell_type": "code",
   "execution_count": 22,
   "id": "b555f5ac-9573-4ea9-bc1e-314bc44230d5",
   "metadata": {},
   "outputs": [
    {
     "data": {
      "text/plain": [
       "language\n",
       "English       4704\n",
       "French          73\n",
       "Spanish         40\n",
       "Hindi           28\n",
       "Mandarin        26\n",
       "German          19\n",
       "Japanese        18\n",
       "Cantonese       11\n",
       "Russian         11\n",
       "Italian         11\n",
       "Portuguese       8\n",
       "Korean           8\n",
       "Danish           5\n",
       "Arabic           5\n",
       "Hebrew           5\n",
       "Swedish          5\n",
       "Polish           4\n",
       "Norwegian        4\n",
       "Persian          4\n",
       "Dutch            4\n",
       "Chinese          3\n",
       "Thai             3\n",
       "Icelandic        2\n",
       "Aboriginal       2\n",
       "Indonesian       2\n",
       "Zulu             2\n",
       "Romanian         2\n",
       "Dari             2\n",
       "Panjabi          1\n",
       "Vietnamese       1\n",
       "Slovenian        1\n",
       "Greek            1\n",
       "Dzongkha         1\n",
       "Tamil            1\n",
       "Urdu             1\n",
       "Telugu           1\n",
       "Kannada          1\n",
       "Czech            1\n",
       "Hungarian        1\n",
       "Bosnian          1\n",
       "Filipino         1\n",
       "Mongolian        1\n",
       "Maya             1\n",
       "Aramaic          1\n",
       "Kazakh           1\n",
       "Swahili          1\n",
       "Name: count, dtype: int64"
      ]
     },
     "execution_count": 22,
     "metadata": {},
     "output_type": "execute_result"
    }
   ],
   "source": [
    "# Répartition des valeurs\n",
    "df[\"language\"].value_counts()"
   ]
  },
  {
   "cell_type": "code",
   "execution_count": 23,
   "id": "1934c68e-bc67-4ab4-9ebe-cdabf1559cad",
   "metadata": {},
   "outputs": [
    {
     "data": {
      "text/plain": [
       "(5043, 25)"
      ]
     },
     "execution_count": 23,
     "metadata": {},
     "output_type": "execute_result"
    }
   ],
   "source": [
    "# La très grande majorité des films sont en anglais, cette variable ne sera pas explicative, on la supprime\n",
    "df.drop('language', axis=1, inplace=True)\n",
    "df.shape"
   ]
  },
  {
   "cell_type": "markdown",
   "id": "5a41ac14-88dd-4a9a-bfaa-921507507d2c",
   "metadata": {},
   "source": [
    "### Analyse de la colonne country"
   ]
  },
  {
   "cell_type": "code",
   "execution_count": 24,
   "id": "3feb1ec7-8372-46c9-982b-5324aeabef9c",
   "metadata": {},
   "outputs": [
    {
     "data": {
      "text/plain": [
       "country\n",
       "USA              3807\n",
       "UK                448\n",
       "France            154\n",
       "Canada            126\n",
       "Germany            97\n",
       "                 ... \n",
       "Slovakia            1\n",
       "Chile               1\n",
       "Cambodia            1\n",
       "Official site       1\n",
       "Philippines         1\n",
       "Name: count, Length: 65, dtype: int64"
      ]
     },
     "execution_count": 24,
     "metadata": {},
     "output_type": "execute_result"
    }
   ],
   "source": [
    "# Répartition des valeurs\n",
    "df[\"country\"].value_counts()"
   ]
  },
  {
   "cell_type": "code",
   "execution_count": 25,
   "id": "98abac66-849d-45e9-a343-d47c55f3b58e",
   "metadata": {},
   "outputs": [
    {
     "data": {
      "text/plain": [
       "0         USA\n",
       "1         USA\n",
       "2          UK\n",
       "3         USA\n",
       "4       Other\n",
       "        ...  \n",
       "5038    Other\n",
       "5039      USA\n",
       "5040      USA\n",
       "5041      USA\n",
       "5042      USA\n",
       "Name: country, Length: 5043, dtype: object"
      ]
     },
     "execution_count": 25,
     "metadata": {},
     "output_type": "execute_result"
    }
   ],
   "source": [
    "# Nous pouvons raisonnablement réorganiser cette colonne en 3 valeurs distinctes : USA, UK, et Other\n",
    "df[\"country\"] = df[\"country\"].where(df[\"country\"].isin([\"USA\", \"UK\"]), \"Other\")\n",
    "df[\"country\"]"
   ]
  },
  {
   "cell_type": "markdown",
   "id": "7dcdf84d-c695-4d6a-9dd5-9947ee0e7e63",
   "metadata": {},
   "source": [
    "### Analyse des valeurs manquantes"
   ]
  },
  {
   "cell_type": "code",
   "execution_count": 26,
   "id": "7a8123c1-8dfe-42d1-939f-f36b61b5dbfc",
   "metadata": {},
   "outputs": [
    {
     "data": {
      "text/plain": [
       "director_name              True\n",
       "num_critic_for_reviews     True\n",
       "duration                   True\n",
       "director_fb_likes          True\n",
       "actor_3_fb_likes           True\n",
       "actor_2_name               True\n",
       "actor_1_fb_likes           True\n",
       "gross                      True\n",
       "genres                    False\n",
       "actor_1_name               True\n",
       "movie_title               False\n",
       "num_voted_users           False\n",
       "cast_total_fb_likes       False\n",
       "actor_3_name               True\n",
       "facenumber_in_poster       True\n",
       "plot_keywords              True\n",
       "num_user_for_reviews       True\n",
       "country                   False\n",
       "content_rating             True\n",
       "budget                     True\n",
       "title_year                 True\n",
       "actor_2_fb_likes           True\n",
       "imdb_score                False\n",
       "aspect_ratio               True\n",
       "movie_fb_likes            False\n",
       "dtype: bool"
      ]
     },
     "execution_count": 26,
     "metadata": {},
     "output_type": "execute_result"
    }
   ],
   "source": [
    "# Y'en a-t-il ?\n",
    "df.isna().any()"
   ]
  },
  {
   "cell_type": "code",
   "execution_count": 27,
   "id": "e23b54f1-089d-48dd-bbed-b6107e7264b5",
   "metadata": {},
   "outputs": [
    {
     "data": {
      "text/plain": [
       "director_name             104\n",
       "num_critic_for_reviews     50\n",
       "duration                   15\n",
       "director_fb_likes         104\n",
       "actor_3_fb_likes           23\n",
       "actor_2_name               13\n",
       "actor_1_fb_likes            7\n",
       "gross                     677\n",
       "genres                      0\n",
       "actor_1_name                7\n",
       "movie_title                 0\n",
       "num_voted_users             0\n",
       "cast_total_fb_likes         0\n",
       "actor_3_name               23\n",
       "facenumber_in_poster       13\n",
       "plot_keywords             153\n",
       "num_user_for_reviews       21\n",
       "country                     0\n",
       "content_rating            303\n",
       "budget                    406\n",
       "title_year                108\n",
       "actor_2_fb_likes           13\n",
       "imdb_score                  0\n",
       "aspect_ratio              329\n",
       "movie_fb_likes              0\n",
       "dtype: int64"
      ]
     },
     "execution_count": 27,
     "metadata": {},
     "output_type": "execute_result"
    }
   ],
   "source": [
    "### Combien ?\n",
    "df.isna().sum()"
   ]
  },
  {
   "cell_type": "code",
   "execution_count": 28,
   "id": "3b4cc19e-5a52-44bc-b9f0-9073526553b8",
   "metadata": {},
   "outputs": [
    {
     "data": {
      "image/png": "[encoded data removed]",
      "text/plain": [
       "<Figure size 1200x800 with 2 Axes>"
      ]
     },
     "metadata": {},
     "output_type": "display_data"
    }
   ],
   "source": [
    "# Visualisation\n",
    "plt.figure(figsize = (12,8))\n",
    "sns.heatmap(df.isna(), yticklabels=False, cbar=True, cmap='plasma');"
   ]
  },
  {
   "cell_type": "code",
   "execution_count": 29,
   "id": "f3514b79-68e1-4290-ad7b-c1daa62d0f6b",
   "metadata": {},
   "outputs": [
    {
     "data": {
      "text/plain": [
       "(4745, 25)"
      ]
     },
     "execution_count": 29,
     "metadata": {},
     "output_type": "execute_result"
    }
   ],
   "source": [
    "# Beaucoup de colonnes ont peu de valeurs manquantes, on peut se permettre de les envlever sans pour autant perdre beaucoup d'information\n",
    "# Nous prenons la décision d'enlever les valeurs manquantes dans les colonnes qui en comptent moins de 5%, soit environ 250 valeurs\n",
    "columns_to_clean = ['director_name', 'num_critic_for_reviews', 'duration', 'director_fb_likes', 'actor_3_fb_likes', 'actor_2_name', 'actor_1_fb_likes',\n",
    "                    'actor_1_name', 'actor_3_name', 'facenumber_in_poster', 'plot_keywords', 'num_user_for_reviews', 'country', 'title_year',\n",
    "                    'actor_2_fb_likes']\n",
    "df.dropna(axis = 0, subset = columns_to_clean, inplace = True)\n",
    "df.shape"
   ]
  },
  {
   "cell_type": "code",
   "execution_count": 30,
   "id": "f34ed67d-a5b7-4008-978d-67350c1e525f",
   "metadata": {},
   "outputs": [
    {
     "data": {
      "image/png": "[encoded data removed]",
      "text/plain": [
       "<Figure size 1200x800 with 2 Axes>"
      ]
     },
     "metadata": {},
     "output_type": "display_data"
    }
   ],
   "source": [
    "# Visualisation #2\n",
    "plt.figure(figsize = (12,8))\n",
    "sns.heatmap(df.isna(), yticklabels=False, cbar=True, cmap='plasma');"
   ]
  },
  {
   "cell_type": "markdown",
   "id": "01b6e996-32fc-4dab-896e-ca5afd88cb9c",
   "metadata": {},
   "source": [
    "Gestion des valeurs manquantes de la colonne **gross**"
   ]
  },
  {
   "cell_type": "code",
   "execution_count": 31,
   "id": "d4ea1c7f-6a7c-4e5e-8b4f-2ff0da21eaa1",
   "metadata": {},
   "outputs": [
    {
     "data": {
      "text/plain": [
       "count    4.285000e+03\n",
       "mean     4.738806e+07\n",
       "std      6.761460e+07\n",
       "min      1.620000e+02\n",
       "25%      5.023275e+06\n",
       "50%      2.484829e+07\n",
       "75%      6.005764e+07\n",
       "max      7.605058e+08\n",
       "Name: gross, dtype: float64"
      ]
     },
     "execution_count": 31,
     "metadata": {},
     "output_type": "execute_result"
    }
   ],
   "source": [
    "# Distribution des valeurs\n",
    "df[\"gross\"].describe()"
   ]
  },
  {
   "cell_type": "code",
   "execution_count": 32,
   "id": "3b623d16-8b6a-4de0-9f33-6f7af5459a37",
   "metadata": {},
   "outputs": [],
   "source": [
    "# Nous faisons le choix de remplacer les valeurs manquantes par la valeur médiane de la distribution,\n",
    "# pour ne pas influer négativement sur le résultat du futur modèle\n",
    "df[\"gross\"].fillna(df[\"gross\"].median(), inplace=True)"
   ]
  },
  {
   "cell_type": "markdown",
   "id": "5d0f2081-6458-4e50-8985-62ca2e9b1a13",
   "metadata": {},
   "source": [
    "Gestion des valeurs manquantes de la colonne **content_rating**"
   ]
  },
  {
   "cell_type": "code",
   "execution_count": 33,
   "id": "686fa728-1523-434b-a690-f92f4ff9cfe7",
   "metadata": {},
   "outputs": [
    {
     "data": {
      "text/plain": [
       "content_rating\n",
       "R            2083\n",
       "PG-13        1436\n",
       "PG            683\n",
       "G             109\n",
       "Not Rated     102\n",
       "Unrated        58\n",
       "Approved       55\n",
       "X              13\n",
       "Passed          9\n",
       "NC-17           7\n",
       "GP              6\n",
       "M               5\n",
       "TV-14           3\n",
       "TV-G            3\n",
       "TV-PG           1\n",
       "Name: count, dtype: int64"
      ]
     },
     "execution_count": 33,
     "metadata": {},
     "output_type": "execute_result"
    }
   ],
   "source": [
    "# Analyse des valeurs\n",
    "df[\"content_rating\"].value_counts()"
   ]
  },
  {
   "cell_type": "code",
   "execution_count": 34,
   "id": "2be15a73-833d-4eb1-b4f7-1d3fbf759b58",
   "metadata": {},
   "outputs": [],
   "source": [
    "# Nous faisons le choix de remplacer les valeurs manquantes par la valeur la plus représentée\n",
    "df[\"content_rating\"].fillna(\"R\", inplace=True)"
   ]
  },
  {
   "cell_type": "markdown",
   "id": "aa04db40-4c2c-4dd8-8465-098f35c9b82b",
   "metadata": {},
   "source": [
    "Gestion des valeurs manquantes de la colonne **budget**"
   ]
  },
  {
   "cell_type": "code",
   "execution_count": 35,
   "id": "a4c2179c-3d6e-4b89-be7b-342bc51b30fe",
   "metadata": {},
   "outputs": [
    {
     "data": {
      "text/plain": [
       "(count    4.474000e+03\n",
       " mean     4.047844e+07\n",
       " std      2.077930e+08\n",
       " min      2.180000e+02\n",
       " 25%      7.000000e+06\n",
       " 50%      2.000000e+07\n",
       " 75%      4.500000e+07\n",
       " max      1.221550e+10\n",
       " Name: budget, dtype: float64,\n",
       " 20000000.0)"
      ]
     },
     "execution_count": 35,
     "metadata": {},
     "output_type": "execute_result"
    }
   ],
   "source": [
    "# Distribution des valeurs\n",
    "df[\"budget\"].describe(), df[\"budget\"].median()"
   ]
  },
  {
   "cell_type": "code",
   "execution_count": 36,
   "id": "d8a6fc35-739a-4ebc-a5a3-bdb70deabb01",
   "metadata": {},
   "outputs": [],
   "source": [
    "# Même choix que pour la colonne gross\n",
    "df[\"budget\"].fillna(df[\"budget\"].median(), inplace=True)"
   ]
  },
  {
   "cell_type": "markdown",
   "id": "5aac5b9c-6c4d-47c8-b5f6-12ae33f9ad91",
   "metadata": {},
   "source": [
    "Gestion des valeurs manquantes de la colonne **aspect_ratio**"
   ]
  },
  {
   "cell_type": "code",
   "execution_count": 37,
   "id": "86d7da76-e9a1-447d-bc81-5acf0ee294d8",
   "metadata": {},
   "outputs": [
    {
     "data": {
      "text/plain": [
       "(count    4534.000000\n",
       " mean        2.115240\n",
       " std         0.648723\n",
       " min         1.180000\n",
       " 25%         1.850000\n",
       " 50%         2.350000\n",
       " 75%         2.350000\n",
       " max        16.000000\n",
       " Name: aspect_ratio, dtype: float64,\n",
       " 2.35)"
      ]
     },
     "execution_count": 37,
     "metadata": {},
     "output_type": "execute_result"
    }
   ],
   "source": [
    "# Distribution des valeurs\n",
    "df[\"aspect_ratio\"].describe(), df[\"aspect_ratio\"].median()"
   ]
  },
  {
   "cell_type": "code",
   "execution_count": 38,
   "id": "e1425c19-6c55-450e-9d93-9880bbac4342",
   "metadata": {},
   "outputs": [],
   "source": [
    "# Même choix que pour la colonne gross\n",
    "df[\"aspect_ratio\"].fillna(df[\"aspect_ratio\"].median(), inplace=True)"
   ]
  },
  {
   "cell_type": "code",
   "execution_count": 39,
   "id": "9a4ac6c4-7cda-46e8-bb95-8b05e6486819",
   "metadata": {},
   "outputs": [
    {
     "data": {
      "image/png": "[encoded data removed]",
      "text/plain": [
       "<Figure size 1200x800 with 2 Axes>"
      ]
     },
     "metadata": {},
     "output_type": "display_data"
    }
   ],
   "source": [
    "# Visualisation #3 pour valider que nous n'avons plus de valeur manquante dans les données\n",
    "plt.figure(figsize = (12,8))\n",
    "sns.heatmap(df.isna(), yticklabels=False, cbar=True, cmap='plasma');"
   ]
  },
  {
   "cell_type": "code",
   "execution_count": null,
   "id": "fa1e59e6-34d1-43d7-b46a-0abe5ace5335",
   "metadata": {},
   "outputs": [],
   "source": []
  },
  {
   "cell_type": "code",
   "execution_count": null,
   "id": "74f06522-78c6-4aca-b615-15ab16aadb73",
   "metadata": {},
   "outputs": [],
   "source": []
  },
  {
   "cell_type": "code",
   "execution_count": null,
   "id": "220a5a25-4bc2-45ea-ba76-ea0e457f1365",
   "metadata": {},
   "outputs": [],
   "source": []
  }
 ],
 "metadata": {
  "kernelspec": {
   "display_name": "Python 3 (ipykernel)",
   "language": "python",
   "name": "python3"
  },
  "language_info": {
   "codemirror_mode": {
    "name": "ipython",
    "version": 3
   },
   "file_extension": ".py",
   "mimetype": "text/x-python",
   "name": "python",
   "nbconvert_exporter": "python",
   "pygments_lexer": "ipython3",
   "version": "3.10.11"
  }
 },
 "nbformat": 4,
 "nbformat_minor": 5
}
